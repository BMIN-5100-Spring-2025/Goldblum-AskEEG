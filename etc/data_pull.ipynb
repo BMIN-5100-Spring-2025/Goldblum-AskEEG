{
 "cells": [
  {
   "cell_type": "code",
   "execution_count": 1,
   "metadata": {},
   "outputs": [],
   "source": [
    "import os\n",
    "import dotenv\n",
    "import numpy as np\n",
    "import pandas as pd\n",
    "from ieeg.auth import Session  # >_ cd ieegy --> pip install -e ."
   ]
  },
  {
   "cell_type": "code",
   "execution_count": 2,
   "metadata": {},
   "outputs": [],
   "source": [
    "dotenv.load_dotenv()\n",
    "\n",
    "session = Session(os.getenv('IEEG_USERNAME'), os.getenv('IEEG_PASSWORD'))\n",
    "dataset = session.open_dataset(os.getenv('IEEG_DATASET'))"
   ]
  },
  {
   "cell_type": "code",
   "execution_count": 3,
   "metadata": {},
   "outputs": [
    {
     "name": "stdout",
     "output_type": "stream",
     "text": [
      "Sampling rate: 400 Hz\n"
     ]
    }
   ],
   "source": [
    "# Get the channel labels\n",
    "channel_labels = dataset.get_channel_labels()\n",
    "num_channels = len(channel_labels)\n",
    "\n",
    "# Get the temporal details of the first channel\n",
    "timeseries = dataset.get_time_series_details(channel_labels[0])\n",
    "fs = int(timeseries.sample_rate)  # Hz\n",
    "\n",
    "print(f\"Sampling rate: {fs} Hz\")"
   ]
  },
  {
   "cell_type": "code",
   "execution_count": 4,
   "metadata": {},
   "outputs": [
    {
     "name": "stdout",
     "output_type": "stream",
     "text": [
      "Collecting chunk 1/6: Minutes 0 to 10\n",
      "Collecting chunk 2/6: Minutes 10 to 20\n",
      "Collecting chunk 3/6: Minutes 20 to 30\n",
      "Collecting chunk 4/6: Minutes 30 to 40\n",
      "Collecting chunk 5/6: Minutes 40 to 50\n",
      "Collecting chunk 6/6: Minutes 50 to 60\n",
      "Dataset shape: (1440000, 16)\n"
     ]
    }
   ],
   "source": [
    "# Data to pull\n",
    "total_mins = 60\n",
    "chunk_mins = 10\n",
    "chunk_usec = chunk_mins * 60 * 1e6  # Convert to microseconds\n",
    "\n",
    "# Initialize empty list to store chunks\n",
    "dfs = []\n",
    "\n",
    "# Loop through chunks\n",
    "for i in range(total_mins // chunk_mins):\n",
    "    start_usec = i * chunk_usec\n",
    "    print(f\"Collecting chunk {i+1}/{int(total_mins/chunk_mins)}: Minutes {i*chunk_mins} to {(i+1)*chunk_mins}\")\n",
    "    \n",
    "    # Get data chunk\n",
    "    chunk_df = dataset.get_dataframe(start_usec, chunk_usec, np.arange(num_channels))\n",
    "    dfs.append(chunk_df)\n",
    "\n",
    "# Concatenate all chunks\n",
    "full_df = pd.concat(dfs, ignore_index=True)\n",
    "print(f\"Dataset shape: {full_df.shape}\")"
   ]
  },
  {
   "cell_type": "code",
   "execution_count": 5,
   "metadata": {},
   "outputs": [
    {
     "name": "stdout",
     "output_type": "stream",
     "text": [
      "\n",
      "Final dataset shape: (28850, 16)\n"
     ]
    }
   ],
   "source": [
    "# Drop NaN rows\n",
    "full_df_no_nan = full_df.dropna()\n",
    "print(f\"\\nFinal dataset shape: {full_df_no_nan.shape}\")"
   ]
  },
  {
   "cell_type": "code",
   "execution_count": 7,
   "metadata": {},
   "outputs": [
    {
     "name": "stdout",
     "output_type": "stream",
     "text": [
      "Data saved to ../data/input/data.csv\n"
     ]
    }
   ],
   "source": [
    "# Save dataset to CSV\n",
    "data_filename = 'data.csv'\n",
    "data_filepath = os.path.join('..', 'data', 'input', data_filename)\n",
    "\n",
    "full_df_no_nan.to_csv(data_filepath)\n",
    "print(f\"Data saved to {data_filepath}\")"
   ]
  },
  {
   "cell_type": "code",
   "execution_count": null,
   "metadata": {},
   "outputs": [],
   "source": []
  }
 ],
 "metadata": {
  "kernelspec": {
   "display_name": ".venv",
   "language": "python",
   "name": "python3"
  },
  "language_info": {
   "codemirror_mode": {
    "name": "ipython",
    "version": 3
   },
   "file_extension": ".py",
   "mimetype": "text/x-python",
   "name": "python",
   "nbconvert_exporter": "python",
   "pygments_lexer": "ipython3",
   "version": "3.11.10"
  }
 },
 "nbformat": 4,
 "nbformat_minor": 2
}
